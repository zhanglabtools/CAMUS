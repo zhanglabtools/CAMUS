{
 "cells": [
  {
   "cell_type": "code",
   "execution_count": 1,
   "id": "7e2e8acf-1ae5-41aa-b2a4-4ca029ee7a4b",
   "metadata": {},
   "outputs": [],
   "source": [
    "import snapatac2 as snap\n",
    "import scanpy as sc\n",
    "import numpy as np\n",
    "import pandas as pd\n",
    "import seaborn as sns\n",
    "import matplotlib.pyplot as plt\n",
    "from CAMUS import CAMUS_score, CAMUS_prioritize, precluster_scATAC\n",
    "\n",
    "import warnings\n",
    "warnings.filterwarnings(\"ignore\")"
   ]
  },
  {
   "cell_type": "markdown",
   "id": "dd59456e-d5a2-4965-a61c-2fb3786c83de",
   "metadata": {},
   "source": [
    "## 1. We first load the annotated adata (the PBMC scATAC-seq data)"
   ]
  },
  {
   "cell_type": "code",
   "execution_count": 3,
   "id": "5a08cc3b-0440-4316-9253-11df5ddc5956",
   "metadata": {},
   "outputs": [
    {
     "data": {
      "text/plain": [
       "AnnData object with n_obs × n_vars = 9631 × 107194\n",
       "    obs: 'domain', 'protocol', 'dataset', 'orig.ident', 'nCount_RNA', 'nFeature_RNA', 'percent.mt', 'nCount_ATAC', 'nFeature_ATAC', 'nCount_SCT', 'nFeature_SCT', 'SCT.weight', 'ATAC.weight', 'wsnn_res.0.8', 'seurat_clusters', 'sub.cluster', 'cell_type', 'leiden', 'leiden_0.1', 'leiden_0.2', 'leiden_0.3', 'leiden_0.4', 'leiden_0.5', 'leiden_0.6', 'leiden_0.7', 'leiden_0.8', 'leiden_0.9', 'leiden_1.0', 'scANVI', 'scJoint', 'Seurat', 'scDART', 'GLUE'\n",
       "    var: 'feature_types', 'genome', 'chrom', 'chromStart', 'chromEnd', 'n_counts', 'count', 'selected'\n",
       "    uns: 'spectral_eigenvalue'\n",
       "    obsm: 'X_spectral', 'X_umap'\n",
       "    obsp: 'distances'"
      ]
     },
     "execution_count": 3,
     "metadata": {},
     "output_type": "execute_result"
    }
   ],
   "source": [
    "adata_raw = sc.read_h5ad('../data/ATAC_PBMC_annotated.h5ad')\n",
    "adata_raw"
   ]
  },
  {
   "cell_type": "markdown",
   "id": "4bfc3939-f4fb-437a-9c3a-a3a6ebb8f1f0",
   "metadata": {},
   "source": [
    "We have the maual annotation in 'cell_type' and the annotation results from four different methods, i.e., scANVI, scJoint, Seurat, scDART and GLUE."
   ]
  },
  {
   "cell_type": "markdown",
   "id": "d393035b-a044-4a4b-a4df-a597b93a5a6d",
   "metadata": {},
   "source": [
    "## 2. We then preprocess the data and then performed pre-clustering"
   ]
  },
  {
   "cell_type": "markdown",
   "id": "15a17a65-7ef9-4b46-91c4-e723e3d76f14",
   "metadata": {},
   "source": [
    "For the scATAC-seq datasets, we used 'precluster_scATAC' function."
   ]
  },
  {
   "cell_type": "code",
   "execution_count": 4,
   "id": "5e359df2-c34b-49be-a631-776fd752e0e5",
   "metadata": {},
   "outputs": [
    {
     "name": "stderr",
     "output_type": "stream",
     "text": [
      "2024-09-28 02:56:24 - INFO - Selected 106124 features.\n"
     ]
    }
   ],
   "source": [
    "adata = precluster_scATAC(adata_raw.copy(), resolution=0.7)"
   ]
  },
  {
   "cell_type": "markdown",
   "id": "85ca3f49-f2c6-4843-b187-99e1e4c4f7ed",
   "metadata": {},
   "source": [
    "The resolution parameter controls the number of clusters, with a default value of 0.7. You can visualize the clustering results and the annotation results on the UMAP to guide the selection of this parameter. Also, an appropriate resolution should result in a number of clusters that closely matches the number of cell types from the reference dataset."
   ]
  },
  {
   "cell_type": "markdown",
   "id": "c44285fd-245a-495c-b8fd-bb7e9c15f5cb",
   "metadata": {},
   "source": [
    "## 3. We next calculate the CAMUS score for each method, and then prioritize them"
   ]
  },
  {
   "cell_type": "code",
   "execution_count": 5,
   "id": "029e1051-6675-433e-a22a-ac8d554b7605",
   "metadata": {},
   "outputs": [
    {
     "data": {
      "text/plain": [
       "{'GLUE': 0.8381990150773703,\n",
       " 'Seurat': 0.8053886318991251,\n",
       " 'scJoint': 0.7869767508247902,\n",
       " 'scANVI': 0.7401971501096948,\n",
       " 'scDART': 0.7184701148534045}"
      ]
     },
     "execution_count": 5,
     "metadata": {},
     "output_type": "execute_result"
    }
   ],
   "source": [
    "prioritized_dict = CAMUS_prioritize(adata, key_class=['scANVI', 'scJoint', 'Seurat', 'scDART', 'GLUE'])\n",
    "prioritized_dict"
   ]
  },
  {
   "cell_type": "markdown",
   "id": "8aa02a9d-347b-40c8-8fd8-7baa714a9184",
   "metadata": {},
   "source": [
    "## 4. Here we have the manual annotation for this data, so we can compare the CAMUS score and the annotation accurcay"
   ]
  },
  {
   "cell_type": "code",
   "execution_count": 7,
   "id": "fdde2238-56bb-429c-9d91-c2474cc11771",
   "metadata": {},
   "outputs": [
    {
     "data": {
      "text/plain": [
       "{'GLUE': 0.9171425604817776,\n",
       " 'Seurat': 0.9119509915896584,\n",
       " 'scJoint': 0.817464437753089,\n",
       " 'scANVI': 0.7303499117433289,\n",
       " 'scDART': 0.6451043505347316}"
      ]
     },
     "execution_count": 7,
     "metadata": {},
     "output_type": "execute_result"
    }
   ],
   "source": [
    "# Use acc_dict to score the annotation accuracy\n",
    "acc_dict = {}\n",
    "for ele in ['GLUE','Seurat', 'scJoint','scANVI', 'scDART']:\n",
    "    accuracy = np.mean(adata.obs['cell_type'].astype(str) == adata.obs[ele].astype(str))\n",
    "    acc_dict[ele] = accuracy\n",
    "acc_dict"
   ]
  },
  {
   "cell_type": "code",
   "execution_count": 9,
   "id": "97d57df2-30fe-4a90-9a02-db111ef2648a",
   "metadata": {},
   "outputs": [],
   "source": [
    "import matplotlib.ticker as ticker\n",
    "import matplotlib.pyplot as plt"
   ]
  },
  {
   "cell_type": "code",
   "execution_count": 15,
   "id": "51015b29-be61-4587-9c44-12ef9e017ad6",
   "metadata": {},
   "outputs": [
    {
     "data": {
      "image/png": "[encoded data removed]",
      "text/plain": [
       "<Figure size 300x280 with 1 Axes>"
      ]
     },
     "metadata": {},
     "output_type": "display_data"
    }
   ],
   "source": [
    "# Plot scatterplot of acc and CAMUS socre\n",
    "acc = list(acc_dict.values())\n",
    "CAMUS_score = list(prioritized_dict.values())\n",
    "methods = list(prioritized_dict.keys())\n",
    "\n",
    "# Create a scatter plot\n",
    "plt.figure(figsize=(3, 2.8))\n",
    "\n",
    "colors = ['#e44e3c', '#1d9f88','#569ed2', '#3b5789','#646464']\n",
    "# Calculate the regression line\n",
    "slope, intercept = np.polyfit(acc, CAMUS_score, 1)\n",
    "x_vals = np.linspace(min(acc)-0.1, max(acc)+0.1, 35)  # Generate more points for a denser set\n",
    "y_vals = intercept + slope * x_vals\n",
    "\n",
    "plt.yticks([0.60, 0.70, 0.80, 0.90])\n",
    "ax = plt.gca()\n",
    "ax.xaxis.set_major_locator(ticker.FixedLocator([min(acc), (min(acc)+max(acc))/2, max(acc)]))  # Set major ticks for x-axis\n",
    "ax.xaxis.set_minor_locator(ticker.AutoMinorLocator(6))  # Add 6 minor ticks between each major tick on x-axis\n",
    "ax.yaxis.set_major_locator(ticker.FixedLocator([0.70, 0.75, 0.80, 0.85]))  # Set major ticks for y-axis\n",
    "ax.yaxis.set_minor_locator(ticker.AutoMinorLocator(2))  # Add 2 minor ticks between each major tick on y-axis\n",
    "\n",
    "# Set the x-axis ticks, retaining three major ticks\n",
    "plt.xticks([0.65, 0.75, 0.85, 0.95])\n",
    "# Plot the regression line as points\n",
    "plt.plot(x_vals, y_vals, linestyle='None', marker='o', color='black', markersize=1) \n",
    "\n",
    "# Set grid lines, retaining more vertical grid lines\n",
    "ax = plt.gca()\n",
    "ax.xaxis.set_major_locator(ticker.FixedLocator([0.60, 0.70, 0.80, 0.90]))  # Set major ticks\n",
    "ax.xaxis.set_minor_locator(ticker.AutoMinorLocator(4))  # Add 4 minor ticks between each major tick\n",
    "\n",
    "plt.grid(True, which='both', axis='both')  # Show both major and minor grid lines\n",
    "plt.xlim(0.60, 0.95)\n",
    "plt.ylim(0.69, 0.85)\n",
    "ax.grid(True, which='major', linestyle=':', linewidth=1.0)  # Make major grid lines thicker\n",
    "ax.grid(True, which='minor', linestyle=':', linewidth=0.5)  # Make minor grid lines thinner\n",
    "\n",
    "# Increase border thickness\n",
    "for spine in ax.spines.values():\n",
    "    spine.set_linewidth(1.0)\n",
    "\n",
    "# Scatter points for each category\n",
    "for i, category in enumerate(methods):\n",
    "    plt.scatter(acc[i], CAMUS_score[i], color=colors[i], label=category, s=75)\n",
    "\n",
    "# Scatter points for each category with labels\n",
    "for i, category in enumerate(methods):\n",
    "    plt.scatter(acc[i], CAMUS_score[i], color=colors[i], label=category, s=75)\n",
    "    plt.text(acc[i] - 0.03, CAMUS_score[i], category, fontsize=10)  # Adjust position as needed\n",
    "\n",
    "plt.tight_layout()  # Adjust layout to fit all elements\n",
    "# Show the plot\n",
    "plt.show()\n"
   ]
  },
  {
   "cell_type": "code",
   "execution_count": null,
   "id": "032662aa-b6c5-4a2c-9b11-b00fe2003432",
   "metadata": {},
   "outputs": [],
   "source": []
  },
  {
   "cell_type": "code",
   "execution_count": null,
   "id": "1ac25c11-a591-4b23-a571-c4bb4d7d7127",
   "metadata": {},
   "outputs": [],
   "source": []
  }
 ],
 "metadata": {
  "kernelspec": {
   "display_name": "Python 3 (ipykernel)",
   "language": "python",
   "name": "python3"
  },
  "language_info": {
   "codemirror_mode": {
    "name": "ipython",
    "version": 3
   },
   "file_extension": ".py",
   "mimetype": "text/x-python",
   "name": "python",
   "nbconvert_exporter": "python",
   "pygments_lexer": "ipython3",
   "version": "3.9.12"
  }
 },
 "nbformat": 4,
 "nbformat_minor": 5
}
