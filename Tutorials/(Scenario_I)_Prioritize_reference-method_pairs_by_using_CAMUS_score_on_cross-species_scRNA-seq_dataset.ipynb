{
 "cells": [
  {
   "cell_type": "code",
   "execution_count": 1,
   "id": "09bc9a33",
   "metadata": {},
   "outputs": [
    {
     "ename": "ModuleNotFoundError",
     "evalue": "No module named 'scCAMUS'",
     "output_type": "error",
     "traceback": [
      "\u001b[1;31m---------------------------------------------------------------------------\u001b[0m",
      "\u001b[1;31mModuleNotFoundError\u001b[0m                       Traceback (most recent call last)",
      "Cell \u001b[1;32mIn[1], line 6\u001b[0m\n\u001b[0;32m      4\u001b[0m \u001b[38;5;28;01mimport\u001b[39;00m \u001b[38;5;21;01mseaborn\u001b[39;00m \u001b[38;5;28;01mas\u001b[39;00m \u001b[38;5;21;01msns\u001b[39;00m\n\u001b[0;32m      5\u001b[0m \u001b[38;5;28;01mimport\u001b[39;00m \u001b[38;5;21;01mmatplotlib\u001b[39;00m\u001b[38;5;21;01m.\u001b[39;00m\u001b[38;5;21;01mpyplot\u001b[39;00m \u001b[38;5;28;01mas\u001b[39;00m \u001b[38;5;21;01mplt\u001b[39;00m\n\u001b[1;32m----> 6\u001b[0m \u001b[38;5;28;01mfrom\u001b[39;00m \u001b[38;5;21;01mscCAMUS\u001b[39;00m\u001b[38;5;21;01m.\u001b[39;00m\u001b[38;5;21;01mmetric\u001b[39;00m \u001b[38;5;28;01mimport\u001b[39;00m CAMUS_score, CAMUS_prioritize\n\u001b[0;32m      7\u001b[0m \u001b[38;5;28;01mfrom\u001b[39;00m \u001b[38;5;21;01mscCAMUS\u001b[39;00m\u001b[38;5;21;01m.\u001b[39;00m\u001b[38;5;21;01mpreprocess\u001b[39;00m \u001b[38;5;28;01mimport\u001b[39;00m precluster_scRNA_scST\n\u001b[0;32m      9\u001b[0m \u001b[38;5;28;01mimport\u001b[39;00m \u001b[38;5;21;01mwarnings\u001b[39;00m\n",
      "\u001b[1;31mModuleNotFoundError\u001b[0m: No module named 'scCAMUS'"
     ]
    }
   ],
   "source": [
    "import scanpy as sc\n",
    "import numpy as np\n",
    "import pandas as pd\n",
    "import seaborn as sns\n",
    "import matplotlib.pyplot as plt\n",
    "from scCAMUS.metric import CAMUS_score, CAMUS_prioritize\n",
    "from scCAMUS.preprocess import precluster_scRNA_scST\n",
    "\n",
    "import warnings\n",
    "warnings.filterwarnings(\"ignore\")"
   ]
  },
  {
   "cell_type": "markdown",
   "id": "da0915ac",
   "metadata": {},
   "source": [
    "## 1. We first load the annotated adata (collected from the retina of chick)"
   ]
  },
  {
   "cell_type": "markdown",
   "id": "49d94c58",
   "metadata": {},
   "source": [
    "You can set your own path of the data for function 'sc.read_h5ad'."
   ]
  },
  {
   "cell_type": "code",
   "execution_count": 9,
   "id": "f403f7ea",
   "metadata": {
    "scrolled": true
   },
   "outputs": [
    {
     "data": {
      "text/plain": [
       "AnnData object with n_obs × n_vars = 13819 × 14300\n",
       "    obs: 'orig.ident', 'nCount_RNA', 'nFeature_RNA', 'Sample', 'Cell.type', 'tSNE.1', 'tSNE.2', 'nGene', 'nUMI', 'Percentage.of.mitochondrial.genes', 'Percentage.of.ribosomal.protein.genes', 'cell_type1', 'cell_ontology_class', 'time_treatment', 'time', 'Macosko_CAME', 'Menon_microfluidics_CAME', 'Menon_seqwell_CAME', 'mouse_LD_0hr_CAME', 'mouse_LD_10hr_CAME', 'mouse_LD_24hr_CAME', 'mouse_LD_4hr_CAME', 'mouse_LD_P60_CAME', 'mouse_NMDA_12hr_CAME', 'mouse_NMDA_24hr_CAME', 'mouse_NMDA_36hr_CAME', 'mouse_NMDA_3hr_CAME', 'mouse_NMDA_48hr_CAME', 'mouse_NMDA_6hr_CAME', 'mouse_NMDA_72hr_CAME', 'mouse_NMDA_P60_CAME', 'zebrafish_LD_10hr_CAME', 'zebrafish_LD_20hr_CAME', 'zebrafish_LD_36hr_CAME', 'zebrafish_LD_4hr_CAME', 'zebrafish_LD_Adult_CAME', 'zebrafish_NMDA_10hr_CAME', 'zebrafish_NMDA_20hr_CAME', 'zebrafish_NMDA_36hr_CAME', 'zebrafish_NMDA_4hr_CAME', 'zebrafish_NMDA_Adult_CAME', 'zebrafish_TNFa_10hr_CAME', 'zebrafish_TNFa_20hr_CAME', 'zebrafish_TNFa_36hr_CAME', 'zebrafish_TNFa_72hr_CAME', 'zebrafish_TNFa_Adult_CAME', 'Macosko_SciBet', 'Menon_microfluidics_SciBet', 'Menon_seqwell_SciBet', 'mouse_LD_0hr_SciBet', 'mouse_LD_10hr_SciBet', 'mouse_LD_24hr_SciBet', 'mouse_LD_4hr_SciBet', 'mouse_LD_P60_SciBet', 'mouse_NMDA_12hr_SciBet', 'mouse_NMDA_24hr_SciBet', 'mouse_NMDA_36hr_SciBet', 'mouse_NMDA_3hr_SciBet', 'mouse_NMDA_48hr_SciBet', 'mouse_NMDA_6hr_SciBet', 'mouse_NMDA_72hr_SciBet', 'mouse_NMDA_P60_SciBet', 'zebrafish_LD_10hr_SciBet', 'zebrafish_LD_20hr_SciBet', 'zebrafish_LD_36hr_SciBet', 'zebrafish_LD_4hr_SciBet', 'zebrafish_LD_Adult_SciBet', 'zebrafish_NMDA_10hr_SciBet', 'zebrafish_NMDA_20hr_SciBet', 'zebrafish_NMDA_36hr_SciBet', 'zebrafish_NMDA_4hr_SciBet', 'zebrafish_NMDA_Adult_SciBet', 'zebrafish_TNFa_10hr_SciBet', 'zebrafish_TNFa_20hr_SciBet', 'zebrafish_TNFa_36hr_SciBet', 'zebrafish_TNFa_72hr_SciBet', 'zebrafish_TNFa_Adult_SciBet', 'Macosko_scmap', 'Menon_microfluidics_scmap', 'Menon_seqwell_scmap', 'mouse_LD_0hr_scmap', 'mouse_LD_10hr_scmap', 'mouse_LD_24hr_scmap', 'mouse_LD_4hr_scmap', 'mouse_LD_P60_scmap', 'mouse_NMDA_12hr_scmap', 'mouse_NMDA_24hr_scmap', 'mouse_NMDA_36hr_scmap', 'mouse_NMDA_3hr_scmap', 'mouse_NMDA_48hr_scmap', 'mouse_NMDA_6hr_scmap', 'mouse_NMDA_72hr_scmap', 'mouse_NMDA_P60_scmap', 'zebrafish_LD_10hr_scmap', 'zebrafish_LD_20hr_scmap', 'zebrafish_LD_36hr_scmap', 'zebrafish_LD_4hr_scmap', 'zebrafish_LD_Adult_scmap', 'zebrafish_NMDA_10hr_scmap', 'zebrafish_NMDA_20hr_scmap', 'zebrafish_NMDA_36hr_scmap', 'zebrafish_NMDA_4hr_scmap', 'zebrafish_NMDA_Adult_scmap', 'zebrafish_TNFa_10hr_scmap', 'zebrafish_TNFa_20hr_scmap', 'zebrafish_TNFa_36hr_scmap', 'zebrafish_TNFa_72hr_scmap', 'zebrafish_TNFa_Adult_scmap', 'Macosko_SCN', 'Menon_microfluidics_SCN', 'Menon_seqwell_SCN', 'mouse_LD_0hr_SCN', 'mouse_LD_10hr_SCN', 'mouse_LD_24hr_SCN', 'mouse_LD_4hr_SCN', 'mouse_LD_P60_SCN', 'mouse_NMDA_12hr_SCN', 'mouse_NMDA_24hr_SCN', 'mouse_NMDA_36hr_SCN', 'mouse_NMDA_3hr_SCN', 'mouse_NMDA_48hr_SCN', 'mouse_NMDA_6hr_SCN', 'mouse_NMDA_72hr_SCN', 'mouse_NMDA_P60_SCN', 'zebrafish_LD_10hr_SCN', 'zebrafish_LD_20hr_SCN', 'zebrafish_LD_36hr_SCN', 'zebrafish_LD_4hr_SCN', 'zebrafish_LD_Adult_SCN', 'zebrafish_NMDA_10hr_SCN', 'zebrafish_NMDA_20hr_SCN', 'zebrafish_NMDA_36hr_SCN', 'zebrafish_NMDA_4hr_SCN', 'zebrafish_NMDA_Adult_SCN', 'zebrafish_TNFa_10hr_SCN', 'zebrafish_TNFa_20hr_SCN', 'zebrafish_TNFa_36hr_SCN', 'zebrafish_TNFa_72hr_SCN', 'zebrafish_TNFa_Adult_SCN', 'Macosko_Seurat', 'Menon_microfluidics_Seurat', 'Menon_seqwell_Seurat', 'mouse_LD_0hr_Seurat', 'mouse_LD_10hr_Seurat', 'mouse_LD_24hr_Seurat', 'mouse_LD_4hr_Seurat', 'mouse_LD_P60_Seurat', 'mouse_NMDA_12hr_Seurat', 'mouse_NMDA_24hr_Seurat', 'mouse_NMDA_36hr_Seurat', 'mouse_NMDA_3hr_Seurat', 'mouse_NMDA_48hr_Seurat', 'mouse_NMDA_6hr_Seurat', 'mouse_NMDA_72hr_Seurat', 'mouse_NMDA_P60_Seurat', 'zebrafish_LD_10hr_Seurat', 'zebrafish_LD_20hr_Seurat', 'zebrafish_LD_36hr_Seurat', 'zebrafish_LD_4hr_Seurat', 'zebrafish_LD_Adult_Seurat', 'zebrafish_NMDA_10hr_Seurat', 'zebrafish_NMDA_20hr_Seurat', 'zebrafish_NMDA_36hr_Seurat', 'zebrafish_NMDA_4hr_Seurat', 'zebrafish_NMDA_Adult_Seurat', 'zebrafish_TNFa_10hr_Seurat', 'zebrafish_TNFa_20hr_Seurat', 'zebrafish_TNFa_36hr_Seurat', 'zebrafish_TNFa_72hr_Seurat', 'zebrafish_TNFa_Adult_Seurat'\n",
       "    var: 'n_cells'"
      ]
     },
     "execution_count": 9,
     "metadata": {},
     "output_type": "execute_result"
    }
   ],
   "source": [
    "adata_raw = sc.read_h5ad('../data/Chick_P10_annotated.h5ad')\n",
    "adata_raw"
   ]
  },
  {
   "cell_type": "markdown",
   "id": "930a7ea6",
   "metadata": {},
   "source": [
    "We have the maual annotation in 'cell_ontology_class' and the annotation results from different reference-method pairs stored from index 15 to 169 (155 reference-method pairs total), e.g., 'zebrafish_LD_4hr_CAME' means the reference data is 'zebrafish_LD_4hr' while the annotation method is 'CAME'."
   ]
  },
  {
   "cell_type": "markdown",
   "id": "e20b07e1",
   "metadata": {},
   "source": [
    "## 2. We then preprocess the data and then performed pre-clustering"
   ]
  },
  {
   "cell_type": "markdown",
   "id": "71f8e2e6",
   "metadata": {},
   "source": [
    "For the scRNA-seq or scST datasets, we used 'precluster_scRNA_scST' function."
   ]
  },
  {
   "cell_type": "code",
   "execution_count": 10,
   "id": "073f3aae",
   "metadata": {},
   "outputs": [],
   "source": [
    "adata = precluster_scRNA_scST(adata_raw.copy(), resolution=0.4)"
   ]
  },
  {
   "cell_type": "markdown",
   "id": "a4ebbfc3",
   "metadata": {},
   "source": [
    "The resolution parameter controls the number of clusters, with a default value of 0.4. You can visualize the clustering results and the annotation results on the UMAP to guide the selection of this parameter. Also, an appropriate resolution should result in a number of clusters that closely matches the number of cell types from the reference dataset."
   ]
  },
  {
   "cell_type": "markdown",
   "id": "08d86dc8",
   "metadata": {},
   "source": [
    "## 3. We next calculate the CAMUS score for each reference-method pair, and then prioritize them"
   ]
  },
  {
   "cell_type": "markdown",
   "id": "872447e6",
   "metadata": {},
   "source": [
    "### 3.1 (optional )You can simply calculate the CAMUS score by 'CAMUS_score' function"
   ]
  },
  {
   "cell_type": "code",
   "execution_count": 11,
   "id": "c7ba9803",
   "metadata": {},
   "outputs": [
    {
     "name": "stdout",
     "output_type": "stream",
     "text": [
      "CAMUS Score: 0.6715\n",
      "The Accuracy of annotation: 0.6841\n"
     ]
    }
   ],
   "source": [
    "score = CAMUS_score(adata.obs['cell_ontology_class'], adata.obs['zebrafish_LD_4hr_CAME'])\n",
    "accuracy = np.mean(adata.obs['cell_ontology_class'].astype(str) == adata.obs['zebrafish_LD_4hr_CAME'].astype(str))\n",
    "print(f\"CAMUS Score: {score:.4f}\")\n",
    "print(f\"The Accuracy of annotation: {accuracy:.4f}\")"
   ]
  },
  {
   "cell_type": "markdown",
   "id": "9841150a",
   "metadata": {},
   "source": [
    "### 3.2 You can prioritizes all the annotation results (from 155 reference-method pairs) by 'CAMUS_prioritize' function"
   ]
  },
  {
   "cell_type": "markdown",
   "id": "e1b6a06c",
   "metadata": {},
   "source": [
    "The prioritized_dict prioritize the annotation results by CAMUS score (from high to low):"
   ]
  },
  {
   "cell_type": "code",
   "execution_count": 12,
   "id": "6f777925",
   "metadata": {},
   "outputs": [
    {
     "data": {
      "text/plain": [
       "{'mouse_NMDA_P60_CAME': 0.688456493797613,\n",
       " 'mouse_NMDA_72hr_CAME': 0.6869245244010572,\n",
       " 'mouse_LD_0hr_CAME': 0.6862812245316078,\n",
       " 'mouse_NMDA_48hr_CAME': 0.685710851691207,\n",
       " 'mouse_NMDA_24hr_CAME': 0.6849418959934317,\n",
       " 'mouse_NMDA_6hr_CAME': 0.6845837744254659,\n",
       " 'mouse_NMDA_3hr_CAME': 0.6844751873858762,\n",
       " 'mouse_LD_P60_CAME': 0.6829902269273586,\n",
       " 'mouse_LD_24hr_CAME': 0.6805524059327248,\n",
       " 'mouse_NMDA_12hr_CAME': 0.6747927737290198,\n",
       " 'Menon_microfluidics_CAME': 0.6669897105441349,\n",
       " 'mouse_NMDA_36hr_CAME': 0.6635526377892054,\n",
       " 'zebrafish_NMDA_Adult_CAME': 0.6549967214272602,\n",
       " 'mouse_LD_4hr_CAME': 0.6508086300974703,\n",
       " 'mouse_LD_10hr_CAME': 0.6425313876049799,\n",
       " 'Menon_seqwell_CAME': 0.6075268508288673,\n",
       " 'zebrafish_NMDA_4hr_CAME': 0.6013851299589699,\n",
       " 'zebrafish_LD_10hr_CAME': 0.5885308848878936,\n",
       " 'mouse_LD_P60_Seurat': 0.5880007225390484,\n",
       " 'mouse_LD_0hr_Seurat': 0.5862103339685134,\n",
       " 'zebrafish_NMDA_10hr_CAME': 0.5842608449701807,\n",
       " 'mouse_LD_24hr_Seurat': 0.5829631011023443,\n",
       " 'mouse_NMDA_P60_Seurat': 0.5743044686769017,\n",
       " 'zebrafish_TNFa_36hr_CAME': 0.5742367377716218,\n",
       " 'Macosko_Seurat': 0.5708173041538421,\n",
       " 'zebrafish_TNFa_72hr_CAME': 0.5646847977073279,\n",
       " 'zebrafish_LD_4hr_CAME': 0.5596984358136549,\n",
       " 'zebrafish_LD_Adult_CAME': 0.5582627426039795,\n",
       " 'zebrafish_TNFa_20hr_CAME': 0.5578388381977992,\n",
       " 'mouse_LD_10hr_Seurat': 0.5571454902531784,\n",
       " 'zebrafish_NMDA_20hr_CAME': 0.5539036364179035,\n",
       " 'Macosko_CAME': 0.5512113854141872,\n",
       " 'mouse_NMDA_72hr_Seurat': 0.5508058178390953,\n",
       " 'zebrafish_LD_20hr_CAME': 0.5460244699206576,\n",
       " 'zebrafish_TNFa_10hr_CAME': 0.541866048079397,\n",
       " 'zebrafish_LD_36hr_CAME': 0.5416639894931032,\n",
       " 'Menon_microfluidics_Seurat': 0.530413787488433,\n",
       " 'mouse_LD_4hr_Seurat': 0.5262316958834093,\n",
       " 'Macosko_scmap': 0.5236504795611857,\n",
       " 'mouse_NMDA_3hr_Seurat': 0.5220786877844421,\n",
       " 'mouse_NMDA_24hr_Seurat': 0.518889195116656,\n",
       " 'Macosko_SciBet': 0.5145128654385027,\n",
       " 'mouse_NMDA_48hr_scmap': 0.5125577525068266,\n",
       " 'Menon_seqwell_SciBet': 0.5110911856733348,\n",
       " 'zebrafish_NMDA_36hr_CAME': 0.5008736167215299,\n",
       " 'mouse_NMDA_6hr_Seurat': 0.4994997062843781,\n",
       " 'Menon_seqwell_scmap': 0.49569811929401286,\n",
       " 'mouse_LD_4hr_scmap': 0.49190155776089267,\n",
       " 'zebrafish_TNFa_Adult_CAME': 0.4910234799382734,\n",
       " 'mouse_NMDA_48hr_SciBet': 0.4875907531807817,\n",
       " 'Menon_microfluidics_SciBet': 0.4855055179955512,\n",
       " 'mouse_NMDA_48hr_Seurat': 0.48098809066888887,\n",
       " 'mouse_LD_10hr_scmap': 0.4806660879104964,\n",
       " 'mouse_NMDA_72hr_scmap': 0.47763931165271184,\n",
       " 'mouse_LD_0hr_SciBet': 0.4747648325433296,\n",
       " 'mouse_NMDA_12hr_Seurat': 0.47449131857771226,\n",
       " 'mouse_NMDA_72hr_SciBet': 0.47365453891705184,\n",
       " 'mouse_LD_P60_SciBet': 0.4722956174778323,\n",
       " 'zebrafish_TNFa_20hr_Seurat': 0.4671455244704597,\n",
       " 'mouse_NMDA_12hr_scmap': 0.4638941814346864,\n",
       " 'mouse_LD_10hr_SciBet': 0.46168821492601364,\n",
       " 'mouse_NMDA_24hr_scmap': 0.46155593466565326,\n",
       " 'zebrafish_TNFa_72hr_Seurat': 0.460477675024651,\n",
       " 'zebrafish_NMDA_36hr_Seurat': 0.4589604489353346,\n",
       " 'zebrafish_NMDA_20hr_Seurat': 0.45254641278686075,\n",
       " 'mouse_NMDA_36hr_SciBet': 0.44316429106556426,\n",
       " 'mouse_NMDA_24hr_SciBet': 0.4419951502772048,\n",
       " 'mouse_LD_4hr_SciBet': 0.4385726090231096,\n",
       " 'mouse_LD_24hr_scmap': 0.43423570590355276,\n",
       " 'mouse_NMDA_P60_SciBet': 0.4334459013164301,\n",
       " 'mouse_NMDA_3hr_SciBet': 0.4329918664451382,\n",
       " 'zebrafish_LD_Adult_Seurat': 0.4328563032594627,\n",
       " 'mouse_NMDA_36hr_scmap': 0.43159716014163296,\n",
       " 'zebrafish_NMDA_10hr_Seurat': 0.42952317247093486,\n",
       " 'zebrafish_NMDA_4hr_Seurat': 0.4278026762058756,\n",
       " 'zebrafish_LD_10hr_Seurat': 0.4235613047876251,\n",
       " 'mouse_LD_24hr_SciBet': 0.4217302699106972,\n",
       " 'mouse_NMDA_36hr_Seurat': 0.42161153949345165,\n",
       " 'mouse_LD_P60_scmap': 0.418723253807781,\n",
       " 'zebrafish_TNFa_36hr_Seurat': 0.41807881499693017,\n",
       " 'zebrafish_TNFa_10hr_Seurat': 0.41644196814663936,\n",
       " 'mouse_NMDA_12hr_SciBet': 0.41539990112271213,\n",
       " 'zebrafish_LD_20hr_Seurat': 0.4107633536808369,\n",
       " 'zebrafish_NMDA_36hr_SciBet': 0.4093554094071948,\n",
       " 'zebrafish_NMDA_4hr_SciBet': 0.40743111196934395,\n",
       " 'Menon_seqwell_Seurat': 0.4066546679752259,\n",
       " 'Macosko_SCN': 0.4064797771836297,\n",
       " 'zebrafish_LD_36hr_Seurat': 0.40226560287386215,\n",
       " 'mouse_NMDA_6hr_SciBet': 0.39825744153400416,\n",
       " 'zebrafish_NMDA_10hr_SciBet': 0.39662269712542575,\n",
       " 'zebrafish_LD_Adult_SciBet': 0.39506900829432146,\n",
       " 'zebrafish_NMDA_Adult_SciBet': 0.3949020504434573,\n",
       " 'zebrafish_LD_10hr_SciBet': 0.39379542835880393,\n",
       " 'zebrafish_NMDA_20hr_SciBet': 0.391212189755483,\n",
       " 'zebrafish_TNFa_Adult_SciBet': 0.3902364065032437,\n",
       " 'mouse_NMDA_P60_SCN': 0.3875740181516393,\n",
       " 'zebrafish_TNFa_72hr_SciBet': 0.38583085210490337,\n",
       " 'mouse_NMDA_P60_scmap': 0.3839890569923155,\n",
       " 'mouse_LD_P60_SCN': 0.38233054083453705,\n",
       " 'zebrafish_TNFa_20hr_SciBet': 0.37266054929933046,\n",
       " 'zebrafish_TNFa_36hr_SciBet': 0.37196589325415863,\n",
       " 'mouse_NMDA_3hr_SCN': 0.3657399791489605,\n",
       " 'zebrafish_NMDA_Adult_Seurat': 0.3605199466052353,\n",
       " 'zebrafish_LD_4hr_Seurat': 0.35782940777433797,\n",
       " 'zebrafish_TNFa_10hr_SciBet': 0.35208350333548943,\n",
       " 'zebrafish_NMDA_20hr_scmap': 0.3413413440094692,\n",
       " 'zebrafish_LD_36hr_SciBet': 0.34037302254431234,\n",
       " 'mouse_LD_0hr_scmap': 0.33985862214562007,\n",
       " 'mouse_NMDA_3hr_scmap': 0.33819512723559714,\n",
       " 'zebrafish_LD_4hr_SciBet': 0.3308620379271964,\n",
       " 'mouse_LD_10hr_SCN': 0.32742237497782234,\n",
       " 'zebrafish_LD_20hr_SciBet': 0.3220456466245783,\n",
       " 'zebrafish_NMDA_36hr_scmap': 0.31569971135778274,\n",
       " 'zebrafish_NMDA_36hr_SCN': 0.3145013522323651,\n",
       " 'mouse_NMDA_72hr_SCN': 0.30455321994939916,\n",
       " 'mouse_NMDA_24hr_SCN': 0.3040849773248657,\n",
       " 'zebrafish_NMDA_10hr_scmap': 0.3035285337327898,\n",
       " 'zebrafish_NMDA_10hr_SCN': 0.28596747691839225,\n",
       " 'zebrafish_TNFa_72hr_SCN': 0.2852605531422517,\n",
       " 'mouse_NMDA_48hr_SCN': 0.2830750871698685,\n",
       " 'zebrafish_NMDA_20hr_SCN': 0.27918862421379137,\n",
       " 'Menon_microfluidics_SCN': 0.2729111885034771,\n",
       " 'mouse_LD_24hr_SCN': 0.27270686627700036,\n",
       " 'mouse_LD_4hr_SCN': 0.27053633162680707,\n",
       " 'Menon_microfluidics_scmap': 0.2687744819547844,\n",
       " 'mouse_NMDA_6hr_scmap': 0.2670429304642452,\n",
       " 'zebrafish_NMDA_Adult_SCN': 0.25826515792847704,\n",
       " 'zebrafish_TNFa_20hr_SCN': 0.2553203983985737,\n",
       " 'zebrafish_TNFa_Adult_SCN': 0.25434735381413165,\n",
       " 'mouse_NMDA_6hr_SCN': 0.2492516391616817,\n",
       " 'zebrafish_LD_Adult_SCN': 0.2405217480166315,\n",
       " 'zebrafish_LD_20hr_SCN': 0.23535449991704,\n",
       " 'mouse_LD_0hr_SCN': 0.23310519736346821,\n",
       " 'zebrafish_TNFa_36hr_SCN': 0.23178314127394997,\n",
       " 'zebrafish_TNFa_36hr_scmap': 0.23068377712448015,\n",
       " 'zebrafish_TNFa_20hr_scmap': 0.2268781831173212,\n",
       " 'zebrafish_TNFa_10hr_SCN': 0.22512745940696602,\n",
       " 'zebrafish_LD_36hr_SCN': 0.22155288442951204,\n",
       " 'zebrafish_LD_10hr_SCN': 0.2176328010422132,\n",
       " 'zebrafish_TNFa_72hr_scmap': 0.21688936450317622,\n",
       " 'zebrafish_LD_4hr_SCN': 0.20877242284903588,\n",
       " 'zebrafish_LD_36hr_scmap': 0.1896954119362566,\n",
       " 'zebrafish_LD_10hr_scmap': 0.186205008009672,\n",
       " 'zebrafish_TNFa_10hr_scmap': 0.18367023505265997,\n",
       " 'zebrafish_NMDA_4hr_SCN': 0.17044758463625764,\n",
       " 'zebrafish_LD_4hr_scmap': 0.15790955344814267,\n",
       " 'zebrafish_TNFa_Adult_scmap': 0.15582118391373487,\n",
       " 'zebrafish_LD_20hr_scmap': 0.15361378900965683,\n",
       " 'Menon_seqwell_SCN': 0.15104803270486739,\n",
       " 'zebrafish_NMDA_4hr_scmap': 0.14811033257806164,\n",
       " 'zebrafish_LD_Adult_scmap': 0.14711431920829007,\n",
       " 'mouse_NMDA_12hr_SCN': 0.12946894125959207,\n",
       " 'zebrafish_NMDA_Adult_scmap': 0.10793776306971258,\n",
       " 'mouse_NMDA_36hr_SCN': 0.04528163895448528}"
      ]
     },
     "execution_count": 12,
     "metadata": {},
     "output_type": "execute_result"
    }
   ],
   "source": [
    "prioritized_dict = CAMUS_prioritize(adata, key_class=adata.obs.columns[15:169])\n",
    "prioritized_dict"
   ]
  },
  {
   "cell_type": "markdown",
   "id": "a2ff9bf6",
   "metadata": {},
   "source": [
    "## 4. Here we have the manual annotation for this data, so we can compare the CAMUS score and the annotation accurcay"
   ]
  },
  {
   "cell_type": "code",
   "execution_count": 13,
   "id": "2c082005",
   "metadata": {},
   "outputs": [],
   "source": [
    "# Use acc_dict to score the annotation accuracy\n",
    "acc_dict = {}\n",
    "for annot_key in adata.obs.columns[15:169]:\n",
    "    accuracy = np.mean(adata.obs['cell_ontology_class'].astype(str) == adata.obs[annot_key].astype(str))\n",
    "    acc_dict[annot_key] = accuracy"
   ]
  },
  {
   "cell_type": "code",
   "execution_count": 14,
   "id": "94c3d281",
   "metadata": {},
   "outputs": [],
   "source": [
    "# Convert accuracy dictionary to a DataFrame\n",
    "acc_df = pd.DataFrame(list(acc_dict.items()), columns=['Key', 'Accuracy'])\n",
    "# Convert prioritized dictionary to a DataFrame\n",
    "prioritized_df = pd.DataFrame(list(prioritized_dict.items()), columns=['Key', 'CAMUS'])\n",
    "\n",
    "#Merge the two DataFrames\n",
    "df = pd.merge(acc_df, prioritized_df, on='Key')"
   ]
  },
  {
   "cell_type": "code",
   "execution_count": 15,
   "id": "9ece736d",
   "metadata": {},
   "outputs": [
    {
     "name": "stdout",
     "output_type": "stream",
     "text": [
      "Pearson Correlation Coefficient between CAMUS score and accuracy: 0.94637\n",
      "The corresponding P-value: 0.00000\n"
     ]
    }
   ],
   "source": [
    "from scipy.stats import pearsonr\n",
    "corr_coef, p_value = pearsonr(df['Accuracy'], df['CAMUS'])\n",
    "print(f'Pearson Correlation Coefficient between CAMUS score and accuracy: {corr_coef:.5f}')\n",
    "print(f'The corresponding P-value: {p_value:.5f}')"
   ]
  },
  {
   "cell_type": "code",
   "execution_count": 16,
   "id": "f5d585b0",
   "metadata": {},
   "outputs": [
    {
     "data": {
      "image/png": "[encoded data removed]",
      "text/plain": [
       "<Figure size 600x500 with 1 Axes>"
      ]
     },
     "metadata": {},
     "output_type": "display_data"
    }
   ],
   "source": [
    "# Create a figure\n",
    "plt.figure(figsize=(6, 5))\n",
    "\n",
    "# Create a scatter plot\n",
    "sns.scatterplot(df['Accuracy'], df['CAMUS'], s=80, color='#d3bfa6')\n",
    "\n",
    "# Add a regression line\n",
    "sns.regplot(x='Accuracy', y='CAMUS', data=df, scatter=False, line_kws={'color': '#9c6c43'})\n",
    "\n",
    "# Add correlation coefficient text to the plot\n",
    "plt.text(0.95, 0.05, f'Pearson r: {corr_coef:.3f}\\np-value: {p_value:.3f}',\n",
    "         ha='right', va='bottom', transform=plt.gca().transAxes, fontsize=10, bbox=dict(facecolor='white', alpha=0.5))\n",
    "\n",
    "# Hide the top and right spines\n",
    "ax = plt.gca()\n",
    "ax.spines['top'].set_visible(False)\n",
    "ax.spines['right'].set_visible(False)\n",
    "\n",
    "# Set labels and title\n",
    "plt.xlabel('Accuracy')\n",
    "plt.ylabel('CAMUS')\n",
    "# Display the plot\n",
    "plt.show()"
   ]
  },
  {
   "cell_type": "code",
   "execution_count": null,
   "id": "8e870738",
   "metadata": {},
   "outputs": [],
   "source": []
  }
 ],
 "metadata": {
  "kernelspec": {
   "display_name": "Python 3 (ipykernel)",
   "language": "python",
   "name": "python3"
  },
  "language_info": {
   "codemirror_mode": {
    "name": "ipython",
    "version": 3
   },
   "file_extension": ".py",
   "mimetype": "text/x-python",
   "name": "python",
   "nbconvert_exporter": "python",
   "pygments_lexer": "ipython3",
   "version": "3.12.3"
  }
 },
 "nbformat": 4,
 "nbformat_minor": 5
}
